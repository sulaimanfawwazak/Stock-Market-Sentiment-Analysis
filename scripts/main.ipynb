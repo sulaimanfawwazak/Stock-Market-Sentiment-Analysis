{
 "cells": [
  {
   "cell_type": "markdown",
   "metadata": {},
   "source": [
    "# **Stock Market Sentiment Analysis using NLTK and BeautifulSoup**"
   ]
  },
  {
   "cell_type": "markdown",
   "metadata": {},
   "source": [
    "## **Dependencies**"
   ]
  },
  {
   "cell_type": "code",
   "execution_count": 72,
   "metadata": {},
   "outputs": [],
   "source": [
    "from urllib.request import urlopen, Request\n",
    "from bs4 import BeautifulSoup\n",
    "from nltk.sentiment.vader import SentimentIntensityAnalyzer\n",
    "from datetime import timedelta\n",
    "from charminal import *\n",
    "import numpy as np\n",
    "import matplotlib.pyplot as plt\n",
    "import pandas as pd\n",
    "import time"
   ]
  },
  {
   "cell_type": "markdown",
   "metadata": {},
   "source": [
    "## **URL and Tickers**"
   ]
  },
  {
   "cell_type": "code",
   "execution_count": 73,
   "metadata": {},
   "outputs": [],
   "source": [
    "finviz_url = 'https://finviz.com/quote.ashx?t='\n",
    "\n",
    "# tickers = ['GOOG', 'NVDA', 'AAPL', 'MSFT', 'INTC', 'AMD', 'TSLA', 'META']\n",
    "tickers = ['AMZN', 'NVDA', 'AAPL', 'AMD', 'INTC']"
   ]
  },
  {
   "cell_type": "markdown",
   "metadata": {},
   "source": [
    "## **Fetch The Data from The URLs**\n",
    "Parse the HTML and find the `id` as `news_id`"
   ]
  },
  {
   "cell_type": "code",
   "execution_count": 74,
   "metadata": {},
   "outputs": [
    {
     "name": "stdout",
     "output_type": "stream",
     "text": [
      "⌛ Fetched data for AMZN ticker in 0:00:05.002574\n",
      "⌛ Fetched data for NVDA ticker in 0:00:06.194517\n",
      "⌛ Fetched data for AAPL ticker in 0:00:08.382781\n",
      "⌛ Fetched data for AMD ticker in 0:00:10.989462\n",
      "⌛ Fetched data for INTC ticker in 0:00:13.108609\n",
      "🏁 Finished in 0:00:13.108804\n"
     ]
    }
   ],
   "source": [
    "news_tables = {}\n",
    "start_time = time.time()\n",
    "for ticker in tickers:\n",
    "  # Append the ticker name at the back of the finviz_url\n",
    "  url = finviz_url + ticker\n",
    "\n",
    "  # Create a request to the url\n",
    "  request = Request(url=url, headers={'user-agent': 'my-app'})\n",
    "\n",
    "  # Capture the response\n",
    "  response = urlopen(request)\n",
    "  \n",
    "  # Parse the content of HTML using BeautifulSoup\n",
    "  html = BeautifulSoup(response, 'html.parser')\n",
    "  news_table = html.find(id='news-table')\n",
    "  news_tables[ticker] = news_table\n",
    "  print(f'{EMOJI_TIME} Fetched data for {ticker} ticker in {timedelta(seconds=time.time() - start_time)}')\n",
    "\n",
    "print(f'{EMOJI_FINISH} Finished in {timedelta(seconds=time.time() - start_time)}')"
   ]
  },
  {
   "cell_type": "markdown",
   "metadata": {},
   "source": [
    "## **Test Code**"
   ]
  },
  {
   "cell_type": "code",
   "execution_count": 75,
   "metadata": {},
   "outputs": [],
   "source": [
    "# amzn_data = news_tables['AMZN']\n",
    "# amzn_rows = amzn_data.findAll('tr')\n",
    "# \n",
    "# for idx, row in enumerate(amzn_rows):\n",
    "#   title = row.a.text\n",
    "#   timestamp = row.td.text.strip()\n",
    "#   print(timestamp + ' ' + title)"
   ]
  },
  {
   "cell_type": "markdown",
   "metadata": {},
   "source": [
    "## **Find The Wanted Data: Date, Time, and News Title**"
   ]
  },
  {
   "cell_type": "markdown",
   "metadata": {},
   "source": [
    "### **Note for `date_and_time`**\n",
    "\n",
    "The data can contain both `date` and `time`, and just `time`. To handle this, we can use `.split()`, and then evaluate the length of the output.\n",
    "* `if len(date_and_time) > 1`: contains `date` and `time`\n",
    "* `else`: just contains `time`"
   ]
  },
  {
   "cell_type": "code",
   "execution_count": 76,
   "metadata": {},
   "outputs": [],
   "source": [
    "# List to store the parsed data\n",
    "parsed_data = []\n",
    "\n",
    "# Iterate through the tables from news_tables\n",
    "for ticker, news_table in news_tables.items():\n",
    "  # Iterate through the rows of the tables, and find <tr> element\n",
    "  for row in news_table.findAll('tr'):\n",
    "    # Parse the title\n",
    "    title = row.a.text\n",
    "    # Remove the trailings\n",
    "    title = title.strip()\n",
    "\n",
    "    # Parse the date and time\n",
    "    # Format: \"Nov-10-24 09:05AM\"\n",
    "    date_and_time = row.td.text\n",
    "    # Remove the trailings\n",
    "    date_and_time = date_and_time.strip()\n",
    "    # Split the time and date\n",
    "    date_and_time = date_and_time.split(' ')\n",
    "\n",
    "    # If the length of date_and_time is larger than 1\n",
    "    if len(date_and_time) > 1:\n",
    "      date = date_and_time[0]\n",
    "      time = date_and_time[1]\n",
    "\n",
    "    else:\n",
    "      time = date_and_time[0]\n",
    "\n",
    "    parsed_data.append([ticker, date, time, title])"
   ]
  },
  {
   "cell_type": "markdown",
   "metadata": {},
   "source": [
    "## **Make the DataFrame**"
   ]
  },
  {
   "cell_type": "code",
   "execution_count": 77,
   "metadata": {},
   "outputs": [
    {
     "name": "stderr",
     "output_type": "stream",
     "text": [
      "/tmp/ipykernel_97346/2693382224.py:13: UserWarning: Could not infer format, so each element will be parsed individually, falling back to `dateutil`. To ensure parsing is consistent and as-expected, please specify a format.\n",
      "  df['date'] = pd.to_datetime(df['date']).dt.date\n"
     ]
    }
   ],
   "source": [
    "df = pd.DataFrame(parsed_data, columns=['ticker', 'date', 'time', 'title'])\n",
    "\n",
    "def convert_date(date_str):\n",
    "  if date_str == 'Today':\n",
    "    return pd.to_datetime('today')\n",
    "  else:\n",
    "    return date_str\n",
    "  \n",
    "def convert_time(time_str):\n",
    "  return pd.to_datetime(time_str)\n",
    "  \n",
    "df['date'] = df['date'].apply(convert_date)\n",
    "df['date'] = pd.to_datetime(df['date']).dt.date\n",
    "df['time'] = df['time'].apply(convert_time).dt.time"
   ]
  },
  {
   "cell_type": "markdown",
   "metadata": {},
   "source": [
    "## **Transform the Date Format of the Data**\n",
    "* There are several data with a value of `Today` --> Need to transform into `today` and then `datetime`\n",
    "* The `time` is in the format of `09:17PM` --> Need to transform into `datetime`"
   ]
  },
  {
   "cell_type": "markdown",
   "metadata": {},
   "source": [
    "## **Calculate The Compound Sentiment Analysis Score**"
   ]
  },
  {
   "cell_type": "code",
   "execution_count": 78,
   "metadata": {},
   "outputs": [],
   "source": [
    "vader = SentimentIntensityAnalyzer()\n",
    "\n",
    "f = lambda title: vader.polarity_scores(title)['compound']\n",
    "df['compound'] = df['title'].apply(f)"
   ]
  },
  {
   "cell_type": "markdown",
   "metadata": {},
   "source": [
    "## **Create A New DataFrame**"
   ]
  },
  {
   "cell_type": "code",
   "execution_count": 79,
   "metadata": {},
   "outputs": [],
   "source": [
    "work_df = df[['ticker', 'date', 'compound']]\n"
   ]
  },
  {
   "cell_type": "code",
   "execution_count": 80,
   "metadata": {},
   "outputs": [
    {
     "data": {
      "text/html": [
       "<div>\n",
       "<style scoped>\n",
       "    .dataframe tbody tr th:only-of-type {\n",
       "        vertical-align: middle;\n",
       "    }\n",
       "\n",
       "    .dataframe tbody tr th {\n",
       "        vertical-align: top;\n",
       "    }\n",
       "\n",
       "    .dataframe thead th {\n",
       "        text-align: right;\n",
       "    }\n",
       "</style>\n",
       "<table border=\"1\" class=\"dataframe\">\n",
       "  <thead>\n",
       "    <tr style=\"text-align: right;\">\n",
       "      <th></th>\n",
       "      <th>ticker</th>\n",
       "      <th>date</th>\n",
       "      <th>time</th>\n",
       "      <th>title</th>\n",
       "      <th>compound</th>\n",
       "    </tr>\n",
       "  </thead>\n",
       "  <tbody>\n",
       "    <tr>\n",
       "      <th>0</th>\n",
       "      <td>AMZN</td>\n",
       "      <td>2024-11-11</td>\n",
       "      <td>16:12:00</td>\n",
       "      <td>New Whole Foods to anchor shopping center in B...</td>\n",
       "      <td>0.0000</td>\n",
       "    </tr>\n",
       "    <tr>\n",
       "      <th>1</th>\n",
       "      <td>AMZN</td>\n",
       "      <td>2024-11-11</td>\n",
       "      <td>13:00:00</td>\n",
       "      <td>How Big Tech, AI could fit into Trump's immigr...</td>\n",
       "      <td>0.3612</td>\n",
       "    </tr>\n",
       "    <tr>\n",
       "      <th>2</th>\n",
       "      <td>AMZN</td>\n",
       "      <td>2024-11-11</td>\n",
       "      <td>12:42:00</td>\n",
       "      <td>Amazon launches drone delivery in Phoenix</td>\n",
       "      <td>0.1779</td>\n",
       "    </tr>\n",
       "    <tr>\n",
       "      <th>3</th>\n",
       "      <td>AMZN</td>\n",
       "      <td>2024-11-11</td>\n",
       "      <td>11:30:00</td>\n",
       "      <td>How a Trump presidency would impact Big Tech</td>\n",
       "      <td>0.0000</td>\n",
       "    </tr>\n",
       "    <tr>\n",
       "      <th>4</th>\n",
       "      <td>AMZN</td>\n",
       "      <td>2024-11-11</td>\n",
       "      <td>08:04:00</td>\n",
       "      <td>Amazon.com Inc. (AMZN): Ken Fishers AI-Driven ...</td>\n",
       "      <td>0.3818</td>\n",
       "    </tr>\n",
       "    <tr>\n",
       "      <th>5</th>\n",
       "      <td>AMZN</td>\n",
       "      <td>2024-11-11</td>\n",
       "      <td>06:45:00</td>\n",
       "      <td>1 \"Magnificent Seven\" Stock That's a Screaming...</td>\n",
       "      <td>0.4767</td>\n",
       "    </tr>\n",
       "    <tr>\n",
       "      <th>6</th>\n",
       "      <td>AMZN</td>\n",
       "      <td>2024-11-11</td>\n",
       "      <td>06:10:00</td>\n",
       "      <td>Exclusive: Amazon developing driver eyeglasses...</td>\n",
       "      <td>0.2960</td>\n",
       "    </tr>\n",
       "    <tr>\n",
       "      <th>7</th>\n",
       "      <td>AMZN</td>\n",
       "      <td>2024-11-11</td>\n",
       "      <td>06:00:00</td>\n",
       "      <td>Unlocking Intrinsic Value: Analysis of Amazon....</td>\n",
       "      <td>0.3400</td>\n",
       "    </tr>\n",
       "    <tr>\n",
       "      <th>8</th>\n",
       "      <td>AMZN</td>\n",
       "      <td>2024-11-11</td>\n",
       "      <td>05:00:00</td>\n",
       "      <td>These Are the 10 Most Popular Grocery Stores i...</td>\n",
       "      <td>0.4754</td>\n",
       "    </tr>\n",
       "    <tr>\n",
       "      <th>9</th>\n",
       "      <td>AMZN</td>\n",
       "      <td>2024-11-11</td>\n",
       "      <td>04:51:00</td>\n",
       "      <td>Billionaires Bill Gates, Jeff Bezos, and Sam A...</td>\n",
       "      <td>0.6486</td>\n",
       "    </tr>\n",
       "  </tbody>\n",
       "</table>\n",
       "</div>"
      ],
      "text/plain": [
       "  ticker        date      time  \\\n",
       "0   AMZN  2024-11-11  16:12:00   \n",
       "1   AMZN  2024-11-11  13:00:00   \n",
       "2   AMZN  2024-11-11  12:42:00   \n",
       "3   AMZN  2024-11-11  11:30:00   \n",
       "4   AMZN  2024-11-11  08:04:00   \n",
       "5   AMZN  2024-11-11  06:45:00   \n",
       "6   AMZN  2024-11-11  06:10:00   \n",
       "7   AMZN  2024-11-11  06:00:00   \n",
       "8   AMZN  2024-11-11  05:00:00   \n",
       "9   AMZN  2024-11-11  04:51:00   \n",
       "\n",
       "                                               title  compound  \n",
       "0  New Whole Foods to anchor shopping center in B...    0.0000  \n",
       "1  How Big Tech, AI could fit into Trump's immigr...    0.3612  \n",
       "2          Amazon launches drone delivery in Phoenix    0.1779  \n",
       "3       How a Trump presidency would impact Big Tech    0.0000  \n",
       "4  Amazon.com Inc. (AMZN): Ken Fishers AI-Driven ...    0.3818  \n",
       "5  1 \"Magnificent Seven\" Stock That's a Screaming...    0.4767  \n",
       "6  Exclusive: Amazon developing driver eyeglasses...    0.2960  \n",
       "7  Unlocking Intrinsic Value: Analysis of Amazon....    0.3400  \n",
       "8  These Are the 10 Most Popular Grocery Stores i...    0.4754  \n",
       "9  Billionaires Bill Gates, Jeff Bezos, and Sam A...    0.6486  "
      ]
     },
     "execution_count": 80,
     "metadata": {},
     "output_type": "execute_result"
    }
   ],
   "source": [
    "df.head(10)"
   ]
  },
  {
   "cell_type": "code",
   "execution_count": 81,
   "metadata": {},
   "outputs": [
    {
     "data": {
      "text/html": [
       "<div>\n",
       "<style scoped>\n",
       "    .dataframe tbody tr th:only-of-type {\n",
       "        vertical-align: middle;\n",
       "    }\n",
       "\n",
       "    .dataframe tbody tr th {\n",
       "        vertical-align: top;\n",
       "    }\n",
       "\n",
       "    .dataframe thead th {\n",
       "        text-align: right;\n",
       "    }\n",
       "</style>\n",
       "<table border=\"1\" class=\"dataframe\">\n",
       "  <thead>\n",
       "    <tr style=\"text-align: right;\">\n",
       "      <th></th>\n",
       "      <th>ticker</th>\n",
       "      <th>date</th>\n",
       "      <th>compound</th>\n",
       "    </tr>\n",
       "  </thead>\n",
       "  <tbody>\n",
       "    <tr>\n",
       "      <th>0</th>\n",
       "      <td>AMZN</td>\n",
       "      <td>2024-11-11</td>\n",
       "      <td>0.0000</td>\n",
       "    </tr>\n",
       "    <tr>\n",
       "      <th>1</th>\n",
       "      <td>AMZN</td>\n",
       "      <td>2024-11-11</td>\n",
       "      <td>0.3612</td>\n",
       "    </tr>\n",
       "    <tr>\n",
       "      <th>2</th>\n",
       "      <td>AMZN</td>\n",
       "      <td>2024-11-11</td>\n",
       "      <td>0.1779</td>\n",
       "    </tr>\n",
       "    <tr>\n",
       "      <th>3</th>\n",
       "      <td>AMZN</td>\n",
       "      <td>2024-11-11</td>\n",
       "      <td>0.0000</td>\n",
       "    </tr>\n",
       "    <tr>\n",
       "      <th>4</th>\n",
       "      <td>AMZN</td>\n",
       "      <td>2024-11-11</td>\n",
       "      <td>0.3818</td>\n",
       "    </tr>\n",
       "    <tr>\n",
       "      <th>5</th>\n",
       "      <td>AMZN</td>\n",
       "      <td>2024-11-11</td>\n",
       "      <td>0.4767</td>\n",
       "    </tr>\n",
       "    <tr>\n",
       "      <th>6</th>\n",
       "      <td>AMZN</td>\n",
       "      <td>2024-11-11</td>\n",
       "      <td>0.2960</td>\n",
       "    </tr>\n",
       "    <tr>\n",
       "      <th>7</th>\n",
       "      <td>AMZN</td>\n",
       "      <td>2024-11-11</td>\n",
       "      <td>0.3400</td>\n",
       "    </tr>\n",
       "    <tr>\n",
       "      <th>8</th>\n",
       "      <td>AMZN</td>\n",
       "      <td>2024-11-11</td>\n",
       "      <td>0.4754</td>\n",
       "    </tr>\n",
       "    <tr>\n",
       "      <th>9</th>\n",
       "      <td>AMZN</td>\n",
       "      <td>2024-11-11</td>\n",
       "      <td>0.6486</td>\n",
       "    </tr>\n",
       "  </tbody>\n",
       "</table>\n",
       "</div>"
      ],
      "text/plain": [
       "  ticker        date  compound\n",
       "0   AMZN  2024-11-11    0.0000\n",
       "1   AMZN  2024-11-11    0.3612\n",
       "2   AMZN  2024-11-11    0.1779\n",
       "3   AMZN  2024-11-11    0.0000\n",
       "4   AMZN  2024-11-11    0.3818\n",
       "5   AMZN  2024-11-11    0.4767\n",
       "6   AMZN  2024-11-11    0.2960\n",
       "7   AMZN  2024-11-11    0.3400\n",
       "8   AMZN  2024-11-11    0.4754\n",
       "9   AMZN  2024-11-11    0.6486"
      ]
     },
     "execution_count": 81,
     "metadata": {},
     "output_type": "execute_result"
    }
   ],
   "source": [
    "work_df.head(10)"
   ]
  },
  {
   "cell_type": "markdown",
   "metadata": {},
   "source": [
    "## **Change The Orientation of The `work_df`**"
   ]
  },
  {
   "cell_type": "code",
   "execution_count": 82,
   "metadata": {},
   "outputs": [],
   "source": [
    "mean_df = work_df.groupby(['ticker', 'date']).mean()\n",
    "mean_df = mean_df.unstack()\n",
    "mean_df = mean_df.xs('compound', axis=1).transpose()"
   ]
  },
  {
   "cell_type": "markdown",
   "metadata": {},
   "source": [
    "### **Why do we need this `unstack()` and `xs()`?**"
   ]
  },
  {
   "cell_type": "markdown",
   "metadata": {},
   "source": [
    "#### **`mean_df` after `groupby().mean()`**\n",
    "| ticker | date       | compound |\n",
    "| ------ | -----------| ---------|\n",
    "| AAPL\t | 2024-11-10 |\t0.1      |\n",
    "| AAPL\t | 2024-11-11 |\t0.2      |\n",
    "| GOOG\t | 2024-11-10 |\t-0.1     |\n",
    "| GOOG\t | 2024-11-11 |\t0.3      |"
   ]
  },
  {
   "cell_type": "markdown",
   "metadata": {},
   "source": [
    "#### **It is more desirable for the .plot() function to have:**\n",
    "- Dates as the index (x-axis).\n",
    "- Tickers as separate columns (one for each line on the plot).\n",
    "- Sentiment scores as the values in these columns."
   ]
  },
  {
   "cell_type": "markdown",
   "metadata": {},
   "source": [
    "#### **So we need to change the mean_df to be:**"
   ]
  },
  {
   "cell_type": "markdown",
   "metadata": {},
   "source": [
    "| date\t      | AAPL | GOOG |\n",
    "| ----------- | ---- | ---- |\n",
    "| 2024-11-10\t| 0.1 |\t-0.1  |\n",
    "| 2024-11-11\t| 0.2 |\t0.3   |"
   ]
  },
  {
   "cell_type": "code",
   "execution_count": 83,
   "metadata": {},
   "outputs": [
    {
     "data": {
      "text/plain": [
       "<Figure size 1500x1000 with 0 Axes>"
      ]
     },
     "metadata": {},
     "output_type": "display_data"
    },
    {
     "data": {
      "image/png": "[encoded data removed]",
      "text/plain": [
       "<Figure size 640x480 with 1 Axes>"
      ]
     },
     "metadata": {},
     "output_type": "display_data"
    }
   ],
   "source": [
    "color_dict = {\n",
    "  'AMZN': 'orange',\n",
    "  'NVDA': 'green',\n",
    "  'AAPL': 'gray',\n",
    "  'AMD': 'red',\n",
    "  'INTC': 'blue'\n",
    "}\n",
    "\n",
    "plt.figure(figsize=(15, 10))\n",
    "mean_df.plot(kind='line', color=[color_dict[ticker] for ticker in mean_df.columns])\n",
    "plt.yticks(np.arange(-1, 1, 0.25))\n",
    "plt.grid()\n",
    "plt.show()"
   ]
  },
  {
   "cell_type": "code",
   "execution_count": 84,
   "metadata": {},
   "outputs": [
    {
     "name": "stdout",
     "output_type": "stream",
     "text": [
      "ticker          AAPL       AMD      AMZN      INTC  NVDA\n",
      "date                                                    \n",
      "2024-10-29       NaN  0.095527       NaN       NaN   NaN\n",
      "2024-10-30       NaN  0.164552       NaN       NaN   NaN\n",
      "2024-10-31       NaN -0.097600       NaN       NaN   NaN\n",
      "2024-11-01       NaN  0.257414       NaN  0.186582   NaN\n",
      "2024-11-02       NaN -0.068300       NaN  0.059200   NaN\n",
      "2024-11-03       NaN  0.000000       NaN  0.098667   NaN\n",
      "2024-11-04       NaN  0.187410       NaN  0.114967   NaN\n",
      "2024-11-05       NaN  0.408880       NaN  0.079962   NaN\n",
      "2024-11-06  0.196753  0.166567  0.168059  0.160100   NaN\n",
      "2024-11-07  0.203306  0.421900  0.181241  0.156871   NaN\n"
     ]
    }
   ],
   "source": [
    "print(mean_df.head(10))"
   ]
  }
 ],
 "metadata": {
  "kernelspec": {
   "display_name": "nlp",
   "language": "python",
   "name": "python3"
  },
  "language_info": {
   "codemirror_mode": {
    "name": "ipython",
    "version": 3
   },
   "file_extension": ".py",
   "mimetype": "text/x-python",
   "name": "python",
   "nbconvert_exporter": "python",
   "pygments_lexer": "ipython3",
   "version": "3.12.7"
  }
 },
 "nbformat": 4,
 "nbformat_minor": 2
}
